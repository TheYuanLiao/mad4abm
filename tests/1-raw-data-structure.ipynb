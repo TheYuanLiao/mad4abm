{
 "cells": [
  {
   "cell_type": "markdown",
   "metadata": {
    "collapsed": true,
    "pycharm": {
     "name": "#%% md\n"
    }
   },
   "source": [
    "# Check raw data structure\n",
    "Take a look at the first 5 lines of a typical dataset in dbs/raw_data_se_2019/."
   ]
  },
  {
   "cell_type": "code",
   "execution_count": 1,
   "outputs": [
    {
     "name": "stdout",
     "output_type": "stream",
     "text": [
      "D:\\mad4abm\n"
     ]
    }
   ],
   "source": [
    "%load_ext autoreload\n",
    "%autoreload 2\n",
    "%cd D:\\mad4abm"
   ],
   "metadata": {
    "collapsed": false,
    "pycharm": {
     "name": "#%%\n"
    }
   }
  },
  {
   "cell_type": "code",
   "execution_count": 2,
   "outputs": [
    {
     "name": "stderr",
     "output_type": "stream",
     "text": [
      "C:\\ProgramData\\Anaconda3\\lib\\site-packages\\numpy\\_distributor_init.py:32: UserWarning: loaded more than 1 DLL from .libs:\n",
      "C:\\ProgramData\\Anaconda3\\lib\\site-packages\\numpy\\.libs\\libopenblas.NOIJJG62EMASZI6NYURL6JBKM4EVBGM7.gfortran-win_amd64.dll\n",
      "C:\\ProgramData\\Anaconda3\\lib\\site-packages\\numpy\\.libs\\libopenblas.XWYDX2IKJW2NMTWSFYNGFUWKQU3LYTCZ.gfortran-win_amd64.dll\n",
      "  stacklevel=1)\n"
     ]
    }
   ],
   "source": [
    "import pandas as pd\n",
    "from datetime import datetime\n",
    "from tzwhere import tzwhere\n",
    "import os\n",
    "import skmob\n",
    "from skmob.preprocessing import filtering\n",
    "from skmob.preprocessing import detection"
   ],
   "metadata": {
    "collapsed": false,
    "pycharm": {
     "name": "#%%\n"
    }
   }
  },
  {
   "cell_type": "code",
   "execution_count": 3,
   "outputs": [
    {
     "name": "stdout",
     "output_type": "stream",
     "text": [
      "Index(['timestamp', 'device_aid', 'device_aid_type', 'latitude', 'longitude',\n",
      "       'horizontal_accuracy', 'altitude', 'altitude_accuracy',\n",
      "       'location_method', 'ip', 'user_agent', 'OS', 'OS_version',\n",
      "       'manufacturer', 'model', 'carrier'],\n",
      "      dtype='object')\n"
     ]
    }
   ],
   "source": [
    "chunk_container = pd.read_csv(\"dbs/raw_data_se_2019/06/01/locations-00-part0000.csv.gz\", sep='\\t', chunksize=5000, compression='gzip')\n",
    "for chunk in chunk_container:\n",
    "    print(chunk.columns)\n",
    "    break"
   ],
   "metadata": {
    "collapsed": false,
    "pycharm": {
     "name": "#%%\n"
    }
   }
  },
  {
   "cell_type": "code",
   "execution_count": 5,
   "outputs": [
    {
     "data": {
      "text/plain": "Empty TrajDataFrame\nColumns: [datetime, uid, device_aid_type, lat, lng, horizontal_accuracy, altitude, altitude_accuracy, location_method, ip, user_agent, OS, OS_version, manufacturer, model, carrier, leaving_datetime]\nIndex: []",
      "text/html": "<div>\n<style scoped>\n    .dataframe tbody tr th:only-of-type {\n        vertical-align: middle;\n    }\n\n    .dataframe tbody tr th {\n        vertical-align: top;\n    }\n\n    .dataframe thead th {\n        text-align: right;\n    }\n</style>\n<table border=\"1\" class=\"dataframe\">\n  <thead>\n    <tr style=\"text-align: right;\">\n      <th></th>\n      <th>datetime</th>\n      <th>uid</th>\n      <th>device_aid_type</th>\n      <th>lat</th>\n      <th>lng</th>\n      <th>horizontal_accuracy</th>\n      <th>altitude</th>\n      <th>altitude_accuracy</th>\n      <th>location_method</th>\n      <th>ip</th>\n      <th>user_agent</th>\n      <th>OS</th>\n      <th>OS_version</th>\n      <th>manufacturer</th>\n      <th>model</th>\n      <th>carrier</th>\n      <th>leaving_datetime</th>\n    </tr>\n  </thead>\n  <tbody>\n  </tbody>\n</table>\n</div>"
     },
     "execution_count": 5,
     "metadata": {},
     "output_type": "execute_result"
    }
   ],
   "source": [
    "tdf = skmob.TrajDataFrame(chunk.iloc[[0]], user_id='device_aid', datetime='timestamp',\n",
    "                              latitude='latitude', longitude='longitude')\n",
    "stdf = detection.stops(filtering.filter(tdf, max_speed_kmh=500.),\n",
    "                           stop_radius_factor=0.5, no_data_for_minutes=60,\n",
    "                           minutes_for_a_stop=10.0, min_speed_kmh=3,\n",
    "                           spatial_radius_km=0.1, leaving_time=True)\n",
    "stdf"
   ],
   "metadata": {
    "collapsed": false,
    "pycharm": {
     "name": "#%%\n"
    }
   }
  },
  {
   "cell_type": "code",
   "execution_count": 8,
   "outputs": [],
   "source": [
    "from timezonefinder import TimezoneFinder\n",
    "def convert_to_location_tz(row, _tf=TimezoneFinder()):\n",
    "    # if lat/lon aren't specified, we just want the existing name (e.g. UTC)\n",
    "    if (row.latitude == 0) & (row.longitude == 0):\n",
    "        return (row.TimeUTC.tz_localize('UTC').tzname(), row.TimeUTC)\n",
    "    # otherwise, try to find tz name\n",
    "    tzname = _tf.timezone_at(lng=row.longitude, lat=row.latitude)\n",
    "    if tzname: # return the name if it is not None\n",
    "        return (tzname, row.TimeUTC.tz_localize('UTC').tz_convert(tzname))\n",
    "    return (row.TimeUTC.tz_localize('UTC').tzname(), row.TimeUTC) # else return existing name\n",
    "\n",
    "chunk[['tzname', 'TimeLocal']] = chunk.apply(lambda row: convert_to_location_tz(row), axis=1, result_type='expand')"
   ],
   "metadata": {
    "collapsed": false,
    "pycharm": {
     "name": "#%%\n"
    }
   }
  },
  {
   "cell_type": "code",
   "execution_count": 9,
   "outputs": [
    {
     "data": {
      "text/plain": "    timestamp                            device_aid device_aid_type  \\\n0  1559347200  13f29831-45db-494e-806f-f1df06a69a29            IDFA   \n1  1559347200  d2b89545-13c0-452c-afe4-e97fedb1176e            IDFA   \n2  1559347200  417a3389-7a06-4c95-a807-37d9f1b12633            AAID   \n3  1559347200  6f685639-1450-4451-b6de-55ea15e93595            AAID   \n4  1559347200  7ba93f91-eeea-4b2c-8723-d6197f342fff            AAID   \n\n    latitude  longitude  horizontal_accuracy  altitude  altitude_accuracy  \\\n0  59.300000  18.050000                 12.5       0.0                NaN   \n1  58.904400  17.946400                  7.7       0.0                NaN   \n2  55.574265  13.040042                 12.0       0.0                NaN   \n3  59.460000  17.900000                  7.9       0.0                NaN   \n4  59.324700  18.056000                 12.8       0.0                NaN   \n\n  location_method              ip  \\\n0             gps   83.250.42.238   \n1             gps   77.53.119.155   \n2            cell    5.241.125.16   \n3           fused    213.113.87.0   \n4            cell  94.191.153.149   \n\n                                          user_agent       OS  OS_version  \\\n0  Mozilla/5.0 (iPhone; CPU iPhone OS 12_3_1 like...      IOS          12   \n1  Mozilla/5.0 (iPhone; CPU iPhone OS 12_2 like M...      IOS          12   \n2  Mozilla/5.0 (Linux; Android 9; EML-L29 Build/H...  ANDROID           9   \n3  Mozilla/5.0 (Linux; Android 8.0.0; SM-G930F Bu...  ANDROID           8   \n4  Mozilla/5.0 (Linux; Android 7.0; EVA-L19 Build...  ANDROID           7   \n\n   manufacturer      model  carrier             TimeUTC            tzname  \\\n0           NaN     iPhone      NaN 2019-06-01 02:00:00  Europe/Stockholm   \n1           NaN     iPhone      NaN 2019-06-01 02:00:00  Europe/Stockholm   \n2           NaN        P20      NaN 2019-06-01 02:00:00  Europe/Stockholm   \n3           NaN  Galaxy S7      NaN 2019-06-01 02:00:00  Europe/Stockholm   \n4           NaN         P9      NaN 2019-06-01 02:00:00  Europe/Stockholm   \n\n                  TimeLocal  \n0 2019-06-01 04:00:00+02:00  \n1 2019-06-01 04:00:00+02:00  \n2 2019-06-01 04:00:00+02:00  \n3 2019-06-01 04:00:00+02:00  \n4 2019-06-01 04:00:00+02:00  ",
      "text/html": "<div>\n<style scoped>\n    .dataframe tbody tr th:only-of-type {\n        vertical-align: middle;\n    }\n\n    .dataframe tbody tr th {\n        vertical-align: top;\n    }\n\n    .dataframe thead th {\n        text-align: right;\n    }\n</style>\n<table border=\"1\" class=\"dataframe\">\n  <thead>\n    <tr style=\"text-align: right;\">\n      <th></th>\n      <th>timestamp</th>\n      <th>device_aid</th>\n      <th>device_aid_type</th>\n      <th>latitude</th>\n      <th>longitude</th>\n      <th>horizontal_accuracy</th>\n      <th>altitude</th>\n      <th>altitude_accuracy</th>\n      <th>location_method</th>\n      <th>ip</th>\n      <th>user_agent</th>\n      <th>OS</th>\n      <th>OS_version</th>\n      <th>manufacturer</th>\n      <th>model</th>\n      <th>carrier</th>\n      <th>TimeUTC</th>\n      <th>tzname</th>\n      <th>TimeLocal</th>\n    </tr>\n  </thead>\n  <tbody>\n    <tr>\n      <th>0</th>\n      <td>1559347200</td>\n      <td>13f29831-45db-494e-806f-f1df06a69a29</td>\n      <td>IDFA</td>\n      <td>59.300000</td>\n      <td>18.050000</td>\n      <td>12.5</td>\n      <td>0.0</td>\n      <td>NaN</td>\n      <td>gps</td>\n      <td>83.250.42.238</td>\n      <td>Mozilla/5.0 (iPhone; CPU iPhone OS 12_3_1 like...</td>\n      <td>IOS</td>\n      <td>12</td>\n      <td>NaN</td>\n      <td>iPhone</td>\n      <td>NaN</td>\n      <td>2019-06-01 02:00:00</td>\n      <td>Europe/Stockholm</td>\n      <td>2019-06-01 04:00:00+02:00</td>\n    </tr>\n    <tr>\n      <th>1</th>\n      <td>1559347200</td>\n      <td>d2b89545-13c0-452c-afe4-e97fedb1176e</td>\n      <td>IDFA</td>\n      <td>58.904400</td>\n      <td>17.946400</td>\n      <td>7.7</td>\n      <td>0.0</td>\n      <td>NaN</td>\n      <td>gps</td>\n      <td>77.53.119.155</td>\n      <td>Mozilla/5.0 (iPhone; CPU iPhone OS 12_2 like M...</td>\n      <td>IOS</td>\n      <td>12</td>\n      <td>NaN</td>\n      <td>iPhone</td>\n      <td>NaN</td>\n      <td>2019-06-01 02:00:00</td>\n      <td>Europe/Stockholm</td>\n      <td>2019-06-01 04:00:00+02:00</td>\n    </tr>\n    <tr>\n      <th>2</th>\n      <td>1559347200</td>\n      <td>417a3389-7a06-4c95-a807-37d9f1b12633</td>\n      <td>AAID</td>\n      <td>55.574265</td>\n      <td>13.040042</td>\n      <td>12.0</td>\n      <td>0.0</td>\n      <td>NaN</td>\n      <td>cell</td>\n      <td>5.241.125.16</td>\n      <td>Mozilla/5.0 (Linux; Android 9; EML-L29 Build/H...</td>\n      <td>ANDROID</td>\n      <td>9</td>\n      <td>NaN</td>\n      <td>P20</td>\n      <td>NaN</td>\n      <td>2019-06-01 02:00:00</td>\n      <td>Europe/Stockholm</td>\n      <td>2019-06-01 04:00:00+02:00</td>\n    </tr>\n    <tr>\n      <th>3</th>\n      <td>1559347200</td>\n      <td>6f685639-1450-4451-b6de-55ea15e93595</td>\n      <td>AAID</td>\n      <td>59.460000</td>\n      <td>17.900000</td>\n      <td>7.9</td>\n      <td>0.0</td>\n      <td>NaN</td>\n      <td>fused</td>\n      <td>213.113.87.0</td>\n      <td>Mozilla/5.0 (Linux; Android 8.0.0; SM-G930F Bu...</td>\n      <td>ANDROID</td>\n      <td>8</td>\n      <td>NaN</td>\n      <td>Galaxy S7</td>\n      <td>NaN</td>\n      <td>2019-06-01 02:00:00</td>\n      <td>Europe/Stockholm</td>\n      <td>2019-06-01 04:00:00+02:00</td>\n    </tr>\n    <tr>\n      <th>4</th>\n      <td>1559347200</td>\n      <td>7ba93f91-eeea-4b2c-8723-d6197f342fff</td>\n      <td>AAID</td>\n      <td>59.324700</td>\n      <td>18.056000</td>\n      <td>12.8</td>\n      <td>0.0</td>\n      <td>NaN</td>\n      <td>cell</td>\n      <td>94.191.153.149</td>\n      <td>Mozilla/5.0 (Linux; Android 7.0; EVA-L19 Build...</td>\n      <td>ANDROID</td>\n      <td>7</td>\n      <td>NaN</td>\n      <td>P9</td>\n      <td>NaN</td>\n      <td>2019-06-01 02:00:00</td>\n      <td>Europe/Stockholm</td>\n      <td>2019-06-01 04:00:00+02:00</td>\n    </tr>\n  </tbody>\n</table>\n</div>"
     },
     "execution_count": 9,
     "metadata": {},
     "output_type": "execute_result"
    }
   ],
   "source": [
    "chunk"
   ],
   "metadata": {
    "collapsed": false,
    "pycharm": {
     "name": "#%%\n"
    }
   }
  },
  {
   "cell_type": "code",
   "execution_count": 13,
   "outputs": [
    {
     "data": {
      "text/plain": "['locations-00-part0000.csv.gz',\n 'locations-01-part0000.csv.gz',\n 'locations-02-part0000.csv.gz',\n 'locations-03-part0000.csv.gz',\n 'locations-04-part0000.csv.gz',\n 'locations-05-part0000.csv.gz',\n 'locations-06-part0000.csv.gz',\n 'locations-07-part0000.csv.gz',\n 'locations-08-part0000.csv.gz',\n 'locations-09-part0000.csv.gz',\n 'locations-10-part0000.csv.gz',\n 'locations-11-part0000.csv.gz',\n 'locations-12-part0000.csv.gz',\n 'locations-13-part0000.csv.gz',\n 'locations-14-part0000.csv.gz',\n 'locations-15-part0000.csv.gz',\n 'locations-16-part0000.csv.gz',\n 'locations-17-part0000.csv.gz',\n 'locations-18-part0000.csv.gz',\n 'locations-19-part0000.csv.gz',\n 'locations-20-part0000.csv.gz',\n 'locations-21-part0000.csv.gz',\n 'locations-22-part0000.csv.gz',\n 'locations-23-part0000.csv.gz']"
     },
     "execution_count": 13,
     "metadata": {},
     "output_type": "execute_result"
    }
   ],
   "source": [
    "os.listdir(os.path.join(\"D:\\\\mad4abm\", \"dbs\", \"raw_data_se_2019\", \"06\", '01'))"
   ],
   "metadata": {
    "collapsed": false,
    "pycharm": {
     "name": "#%%\n"
    }
   }
  },
  {
   "cell_type": "code",
   "execution_count": 17,
   "outputs": [
    {
     "data": {
      "text/plain": "                             device_aid\n0  13f29831-45db-494e-806f-f1df06a69a29\n1  d2b89545-13c0-452c-afe4-e97fedb1176e\n2  417a3389-7a06-4c95-a807-37d9f1b12633\n3  6f685639-1450-4451-b6de-55ea15e93595\n4  7ba93f91-eeea-4b2c-8723-d6197f342fff",
      "text/html": "<div>\n<style scoped>\n    .dataframe tbody tr th:only-of-type {\n        vertical-align: middle;\n    }\n\n    .dataframe tbody tr th {\n        vertical-align: top;\n    }\n\n    .dataframe thead th {\n        text-align: right;\n    }\n</style>\n<table border=\"1\" class=\"dataframe\">\n  <thead>\n    <tr style=\"text-align: right;\">\n      <th></th>\n      <th>device_aid</th>\n    </tr>\n  </thead>\n  <tbody>\n    <tr>\n      <th>0</th>\n      <td>13f29831-45db-494e-806f-f1df06a69a29</td>\n    </tr>\n    <tr>\n      <th>1</th>\n      <td>d2b89545-13c0-452c-afe4-e97fedb1176e</td>\n    </tr>\n    <tr>\n      <th>2</th>\n      <td>417a3389-7a06-4c95-a807-37d9f1b12633</td>\n    </tr>\n    <tr>\n      <th>3</th>\n      <td>6f685639-1450-4451-b6de-55ea15e93595</td>\n    </tr>\n    <tr>\n      <th>4</th>\n      <td>7ba93f91-eeea-4b2c-8723-d6197f342fff</td>\n    </tr>\n  </tbody>\n</table>\n</div>"
     },
     "execution_count": 17,
     "metadata": {},
     "output_type": "execute_result"
    }
   ],
   "source": [
    "pd.DataFrame(chunk.device_aid.unique(), columns=['device_aid'])"
   ],
   "metadata": {
    "collapsed": false,
    "pycharm": {
     "name": "#%%\n"
    }
   }
  },
  {
   "cell_type": "code",
   "execution_count": 21,
   "outputs": [
    {
     "data": {
      "text/plain": "                       datetime                                   uid  \\\n0 1970-01-01 00:00:01.559347200  13f29831-45db-494e-806f-f1df06a69a29   \n1 1970-01-01 00:00:01.559347200  d2b89545-13c0-452c-afe4-e97fedb1176e   \n2 1970-01-01 00:00:01.559347200  417a3389-7a06-4c95-a807-37d9f1b12633   \n3 1970-01-01 00:00:01.559347200  6f685639-1450-4451-b6de-55ea15e93595   \n4 1970-01-01 00:00:01.559347200  7ba93f91-eeea-4b2c-8723-d6197f342fff   \n\n  device_aid_type        lat        lng  horizontal_accuracy  altitude  \\\n0            IDFA  59.300000  18.050000                 12.5       0.0   \n1            IDFA  58.904400  17.946400                  7.7       0.0   \n2            AAID  55.574265  13.040042                 12.0       0.0   \n3            AAID  59.460000  17.900000                  7.9       0.0   \n4            AAID  59.324700  18.056000                 12.8       0.0   \n\n   altitude_accuracy location_method              ip  \\\n0                NaN             gps   83.250.42.238   \n1                NaN             gps   77.53.119.155   \n2                NaN            cell    5.241.125.16   \n3                NaN           fused    213.113.87.0   \n4                NaN            cell  94.191.153.149   \n\n                                          user_agent       OS  OS_version  \\\n0  Mozilla/5.0 (iPhone; CPU iPhone OS 12_3_1 like...      IOS          12   \n1  Mozilla/5.0 (iPhone; CPU iPhone OS 12_2 like M...      IOS          12   \n2  Mozilla/5.0 (Linux; Android 9; EML-L29 Build/H...  ANDROID           9   \n3  Mozilla/5.0 (Linux; Android 8.0.0; SM-G930F Bu...  ANDROID           8   \n4  Mozilla/5.0 (Linux; Android 7.0; EVA-L19 Build...  ANDROID           7   \n\n   manufacturer      model  carrier             TimeUTC            tzname  \\\n0           NaN     iPhone      NaN 2019-06-01 02:00:00  Europe/Stockholm   \n1           NaN     iPhone      NaN 2019-06-01 02:00:00  Europe/Stockholm   \n2           NaN        P20      NaN 2019-06-01 02:00:00  Europe/Stockholm   \n3           NaN  Galaxy S7      NaN 2019-06-01 02:00:00  Europe/Stockholm   \n4           NaN         P9      NaN 2019-06-01 02:00:00  Europe/Stockholm   \n\n                  TimeLocal  \n0 2019-06-01 04:00:00+02:00  \n1 2019-06-01 04:00:00+02:00  \n2 2019-06-01 04:00:00+02:00  \n3 2019-06-01 04:00:00+02:00  \n4 2019-06-01 04:00:00+02:00  ",
      "text/html": "<div>\n<style scoped>\n    .dataframe tbody tr th:only-of-type {\n        vertical-align: middle;\n    }\n\n    .dataframe tbody tr th {\n        vertical-align: top;\n    }\n\n    .dataframe thead th {\n        text-align: right;\n    }\n</style>\n<table border=\"1\" class=\"dataframe\">\n  <thead>\n    <tr style=\"text-align: right;\">\n      <th></th>\n      <th>datetime</th>\n      <th>uid</th>\n      <th>device_aid_type</th>\n      <th>lat</th>\n      <th>lng</th>\n      <th>horizontal_accuracy</th>\n      <th>altitude</th>\n      <th>altitude_accuracy</th>\n      <th>location_method</th>\n      <th>ip</th>\n      <th>user_agent</th>\n      <th>OS</th>\n      <th>OS_version</th>\n      <th>manufacturer</th>\n      <th>model</th>\n      <th>carrier</th>\n      <th>TimeUTC</th>\n      <th>tzname</th>\n      <th>TimeLocal</th>\n    </tr>\n  </thead>\n  <tbody>\n    <tr>\n      <th>0</th>\n      <td>1970-01-01 00:00:01.559347200</td>\n      <td>13f29831-45db-494e-806f-f1df06a69a29</td>\n      <td>IDFA</td>\n      <td>59.300000</td>\n      <td>18.050000</td>\n      <td>12.5</td>\n      <td>0.0</td>\n      <td>NaN</td>\n      <td>gps</td>\n      <td>83.250.42.238</td>\n      <td>Mozilla/5.0 (iPhone; CPU iPhone OS 12_3_1 like...</td>\n      <td>IOS</td>\n      <td>12</td>\n      <td>NaN</td>\n      <td>iPhone</td>\n      <td>NaN</td>\n      <td>2019-06-01 02:00:00</td>\n      <td>Europe/Stockholm</td>\n      <td>2019-06-01 04:00:00+02:00</td>\n    </tr>\n    <tr>\n      <th>1</th>\n      <td>1970-01-01 00:00:01.559347200</td>\n      <td>d2b89545-13c0-452c-afe4-e97fedb1176e</td>\n      <td>IDFA</td>\n      <td>58.904400</td>\n      <td>17.946400</td>\n      <td>7.7</td>\n      <td>0.0</td>\n      <td>NaN</td>\n      <td>gps</td>\n      <td>77.53.119.155</td>\n      <td>Mozilla/5.0 (iPhone; CPU iPhone OS 12_2 like M...</td>\n      <td>IOS</td>\n      <td>12</td>\n      <td>NaN</td>\n      <td>iPhone</td>\n      <td>NaN</td>\n      <td>2019-06-01 02:00:00</td>\n      <td>Europe/Stockholm</td>\n      <td>2019-06-01 04:00:00+02:00</td>\n    </tr>\n    <tr>\n      <th>2</th>\n      <td>1970-01-01 00:00:01.559347200</td>\n      <td>417a3389-7a06-4c95-a807-37d9f1b12633</td>\n      <td>AAID</td>\n      <td>55.574265</td>\n      <td>13.040042</td>\n      <td>12.0</td>\n      <td>0.0</td>\n      <td>NaN</td>\n      <td>cell</td>\n      <td>5.241.125.16</td>\n      <td>Mozilla/5.0 (Linux; Android 9; EML-L29 Build/H...</td>\n      <td>ANDROID</td>\n      <td>9</td>\n      <td>NaN</td>\n      <td>P20</td>\n      <td>NaN</td>\n      <td>2019-06-01 02:00:00</td>\n      <td>Europe/Stockholm</td>\n      <td>2019-06-01 04:00:00+02:00</td>\n    </tr>\n    <tr>\n      <th>3</th>\n      <td>1970-01-01 00:00:01.559347200</td>\n      <td>6f685639-1450-4451-b6de-55ea15e93595</td>\n      <td>AAID</td>\n      <td>59.460000</td>\n      <td>17.900000</td>\n      <td>7.9</td>\n      <td>0.0</td>\n      <td>NaN</td>\n      <td>fused</td>\n      <td>213.113.87.0</td>\n      <td>Mozilla/5.0 (Linux; Android 8.0.0; SM-G930F Bu...</td>\n      <td>ANDROID</td>\n      <td>8</td>\n      <td>NaN</td>\n      <td>Galaxy S7</td>\n      <td>NaN</td>\n      <td>2019-06-01 02:00:00</td>\n      <td>Europe/Stockholm</td>\n      <td>2019-06-01 04:00:00+02:00</td>\n    </tr>\n    <tr>\n      <th>4</th>\n      <td>1970-01-01 00:00:01.559347200</td>\n      <td>7ba93f91-eeea-4b2c-8723-d6197f342fff</td>\n      <td>AAID</td>\n      <td>59.324700</td>\n      <td>18.056000</td>\n      <td>12.8</td>\n      <td>0.0</td>\n      <td>NaN</td>\n      <td>cell</td>\n      <td>94.191.153.149</td>\n      <td>Mozilla/5.0 (Linux; Android 7.0; EVA-L19 Build...</td>\n      <td>ANDROID</td>\n      <td>7</td>\n      <td>NaN</td>\n      <td>P9</td>\n      <td>NaN</td>\n      <td>2019-06-01 02:00:00</td>\n      <td>Europe/Stockholm</td>\n      <td>2019-06-01 04:00:00+02:00</td>\n    </tr>\n  </tbody>\n</table>\n</div>"
     },
     "execution_count": 21,
     "metadata": {},
     "output_type": "execute_result"
    }
   ],
   "source": [
    "tdf"
   ],
   "metadata": {
    "collapsed": false,
    "pycharm": {
     "name": "#%%\n"
    }
   }
  },
  {
   "cell_type": "markdown",
   "source": [
    "## Check problematic dataset"
   ],
   "metadata": {
    "collapsed": false,
    "pycharm": {
     "name": "#%% md\n"
    }
   }
  },
  {
   "cell_type": "code",
   "execution_count": 4,
   "outputs": [
    {
     "name": "stderr",
     "output_type": "stream",
     "text": [
      "C:\\ProgramData\\Anaconda3\\lib\\site-packages\\IPython\\core\\interactiveshell.py:3057: DtypeWarning: Columns (0,3,4,5,6,7,15) have mixed types.Specify dtype option on import or set low_memory=False.\n",
      "  interactivity=interactivity, compiler=compiler, result=result)\n"
     ]
    }
   ],
   "source": [
    "df = pd.read_csv(\"dbs/raw_data_se_2019/12/14/locations-06-part0000.csv.gz\", sep='\\t', compression='gzip')"
   ],
   "metadata": {
    "collapsed": false,
    "pycharm": {
     "name": "#%%\n"
    }
   }
  },
  {
   "cell_type": "code",
   "execution_count": 5,
   "outputs": [
    {
     "data": {
      "text/plain": "timestamp               int32\ndevice_aid             object\ndevice_aid_type        object\nlatitude               object\nlongitude              object\nhorizontal_accuracy    object\naltitude               object\naltitude_accuracy      object\nlocation_method        object\nip                     object\nuser_agent             object\nOS                     object\nOS_version             object\nmanufacturer           object\nmodel                  object\ncarrier                object\ndtype: object"
     },
     "execution_count": 5,
     "metadata": {},
     "output_type": "execute_result"
    }
   ],
   "source": [
    "df = df.loc[df['timestamp'] != 'timestamp', :]\n",
    "df['timestamp'] = df['timestamp'].astype(int)\n",
    "df.dtypes"
   ],
   "metadata": {
    "collapsed": false,
    "pycharm": {
     "name": "#%%\n"
    }
   }
  },
  {
   "cell_type": "code",
   "execution_count": null,
   "outputs": [],
   "source": [],
   "metadata": {
    "collapsed": false,
    "pycharm": {
     "name": "#%%\n"
    }
   }
  }
 ],
 "metadata": {
  "kernelspec": {
   "display_name": "Python 3",
   "language": "python",
   "name": "python3"
  },
  "language_info": {
   "codemirror_mode": {
    "name": "ipython",
    "version": 2
   },
   "file_extension": ".py",
   "mimetype": "text/x-python",
   "name": "python",
   "nbconvert_exporter": "python",
   "pygments_lexer": "ipython2",
   "version": "2.7.6"
  }
 },
 "nbformat": 4,
 "nbformat_minor": 0
}